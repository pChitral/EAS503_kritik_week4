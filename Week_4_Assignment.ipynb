{
 "cells": [
  {
   "cell_type": "markdown",
   "metadata": {},
   "source": [
    "# Week 4 Lecture Review\n",
    "\n",
    "---\n",
    "\n",
    "<span style=\"color:grey; font-family:Lato; font-size:1.4em;\">\n",
    "\n",
    "## Question 1\n",
    "\n",
    "**We covered list and dictionary comprehension. There are three variations of list/dictionary comprehension: no conditional, if conditional, and if/else conditional. Give simple examples where you do not use list/dictionary comprehension and then repeat the same examples with list/dictionary comprehension. There will be 12 examples in total -- 3 plain list example, 3 list comprehension examples, 3 plain dictionary examples, and 3 dictionary comprehensions examples.**\n"
   ]
  },
  {
   "cell_type": "markdown",
   "metadata": {},
   "source": [
    "For this question we'll start by creating a list called `nums`, which holds numbers from 1 to 10. First, we'll simply create a list without having any condition on it with the help of our tradational barebones for loop way. Following code snippet demonstrates that example where we don't have any condition and we are creating a list WITHOUT using list comprehension.\n"
   ]
  },
  {
   "cell_type": "code",
   "execution_count": 17,
   "metadata": {},
   "outputs": [
    {
     "name": "stdout",
     "output_type": "stream",
     "text": [
      "This is our first output: [1, 2, 3, 4, 5, 6, 7, 8, 9, 10]\n",
      "This is our second output: [1, 2, 3, 4, 5, 6, 7, 8, 9, 10], which indeed is the same!\n"
     ]
    }
   ],
   "source": [
    "# This is a very naive way of doing things in python. Here we will be making use of the for loop in order to create a list of numbers (nums) from 1 to 10.\n",
    "nums = []\n",
    "for i in range(1, 11):\n",
    "    nums.append(i)\n",
    "print(f\"This is our first output: {nums}\")\n",
    "\n",
    "# Actually, we can get the same list (nums) in just one line by forcing our range operator to get into a list as follows:\n",
    "nums = list(range(1, 11))\n",
    "print(f\"This is our second output: {nums}, which indeed is the same!\")\n"
   ]
  },
  {
   "cell_type": "markdown",
   "metadata": {},
   "source": [
    "**Scenario 1**\n",
    "\n",
    "_Plain List Example 1_\n",
    "\n",
    "Now we'll take the sqaures of all the elements in our list `nums`. This scenario is the demonstration of the plain list example where we are not putting any conditions on what things need to be done if some condition is met. In fact, this is the naive example where we'll perform the same iteration on every element of our list without checking anything. Following code snippet demonstrates it aptly:\n"
   ]
  },
  {
   "cell_type": "code",
   "execution_count": 18,
   "metadata": {},
   "outputs": [
    {
     "data": {
      "text/plain": [
       "[1, 4, 9, 16, 25, 36, 49, 64, 81, 100]"
      ]
     },
     "execution_count": 18,
     "metadata": {},
     "output_type": "execute_result"
    }
   ],
   "source": [
    "# We'll create a new object to hold our results instead of overwriting our original nums list.\n",
    "nums_squared_all = []\n",
    "\n",
    "for num in nums:\n",
    "    nums_squared_all.append(num**2)\n",
    "\n",
    "nums_squared_all\n"
   ]
  },
  {
   "cell_type": "markdown",
   "metadata": {},
   "source": [
    "**Scenario 2**\n",
    "\n",
    "_Plain List Example 2_\n",
    "\n",
    "Now we'll check for some condition before perfoming our operations. For brevity, lets stick to the example where we'll only square numbers that are even and drop the rest.\n"
   ]
  },
  {
   "cell_type": "code",
   "execution_count": 19,
   "metadata": {},
   "outputs": [
    {
     "data": {
      "text/plain": [
       "[4, 16, 36, 64, 100]"
      ]
     },
     "execution_count": 19,
     "metadata": {},
     "output_type": "execute_result"
    }
   ],
   "source": [
    "# We'll create a new object to hold our results instead of overwriting our original nums list.\n",
    "nums_squared_even_only = []\n",
    "\n",
    "for num in nums:\n",
    "    if (num % 2 == 0):\n",
    "        nums_squared_even_only.append(num**2)\n",
    "\n",
    "nums_squared_even_only\n"
   ]
  },
  {
   "cell_type": "markdown",
   "metadata": {},
   "source": [
    "**Scenario 3**\n",
    "\n",
    "_Plain List Example 3_\n",
    "\n",
    "Now we'll check for some condition before perfoming our operations and if that condition isn't met, we'll do something else instead of ignoring it. For brevity, lets stick to the example where we'll only square numbers that are even and keep the numbers as is, if odd.\n"
   ]
  },
  {
   "cell_type": "code",
   "execution_count": 20,
   "metadata": {},
   "outputs": [
    {
     "data": {
      "text/plain": [
       "[1, 4, 3, 16, 5, 36, 7, 64, 9, 100]"
      ]
     },
     "execution_count": 20,
     "metadata": {},
     "output_type": "execute_result"
    }
   ],
   "source": [
    "# We'll create a new object to hold our results instead of overwriting our original nums list.\n",
    "nums_all_even_squared = []\n",
    "\n",
    "for num in nums:\n",
    "    if (num % 2 == 0):\n",
    "        nums_all_even_squared.append(num**2)\n",
    "    else:\n",
    "        nums_all_even_squared.append(num)\n",
    "\n",
    "nums_all_even_squared\n"
   ]
  },
  {
   "cell_type": "markdown",
   "metadata": {},
   "source": [
    "**Scenario 4**\n",
    "\n",
    "_List Comprehension Example 1_\n",
    "\n",
    "Now we'll take the sqaures of all the elements in our list `nums`. Here we'll try to attain the same output as we did in the 1st scenario but with a very compact code. This will be the demonstration of list comprehension and will demonstrate how it helps us reduce the lines in our code by making it more compact and pythonic.\n"
   ]
  },
  {
   "cell_type": "code",
   "execution_count": 21,
   "metadata": {},
   "outputs": [
    {
     "data": {
      "text/plain": [
       "[1, 4, 9, 16, 25, 36, 49, 64, 81, 100]"
      ]
     },
     "execution_count": 21,
     "metadata": {},
     "output_type": "execute_result"
    }
   ],
   "source": [
    "# This is how we make our code more readable and shrink lines by making use of list comprehension.\n",
    "nums_squared_all = [num**2 for num in nums]\n",
    "\n",
    "nums_squared_all\n"
   ]
  },
  {
   "cell_type": "markdown",
   "metadata": {},
   "source": [
    "**Scenario 5**\n",
    "\n",
    "_List Comprehension Example 2_\n",
    "\n",
    "Now we'll check for some condition before perfoming our operations. For brevity, lets stick to the example where we'll only square numbers that are even and drop the rest. However, the twist here is that we'll be making use of list comprehension and will make our code more pythonic.\n"
   ]
  },
  {
   "cell_type": "code",
   "execution_count": 22,
   "metadata": {},
   "outputs": [
    {
     "data": {
      "text/plain": [
       "[4, 16, 36, 64, 100]"
      ]
     },
     "execution_count": 22,
     "metadata": {},
     "output_type": "execute_result"
    }
   ],
   "source": [
    "# Pay close attention to where I've written the if statement in this case, because there's something coming up in the next example\n",
    "nums_squared_even_only = [num**2 for num in nums if num % 2 == 0]\n",
    "\n",
    "nums_squared_even_only\n"
   ]
  },
  {
   "cell_type": "markdown",
   "metadata": {},
   "source": [
    "**Scenario 6**\n",
    "\n",
    "_List Comprehension Example 3_\n",
    "\n",
    "Now we'll check for some condition before perfoming our operations and if that condition isn't met, we'll do something else instead of ignoring it. For brevity, lets stick to the example where we'll only square numbers that are even and keep the numbers as is, if odd. However, the twist here is that we'll be making use of list comprehension and will make our code more pythonic.\n"
   ]
  },
  {
   "cell_type": "code",
   "execution_count": 23,
   "metadata": {},
   "outputs": [
    {
     "data": {
      "text/plain": [
       "[1, 4, 3, 16, 5, 36, 7, 64, 9, 100]"
      ]
     },
     "execution_count": 23,
     "metadata": {},
     "output_type": "execute_result"
    }
   ],
   "source": [
    "nums_all_even_squared = [num**2 if num % 2 == 0 else num for num in nums]\n",
    "\n",
    "nums_all_even_squared\n"
   ]
  },
  {
   "cell_type": "markdown",
   "metadata": {},
   "source": [
    "Now lets start with the plain dictionary examples where we'll reiterate the same things that we did for our list example but with the only difference of our current data type being a dictionary and not a list. Now we'll create a dictionary\n"
   ]
  },
  {
   "cell_type": "code",
   "execution_count": 24,
   "metadata": {},
   "outputs": [
    {
     "data": {
      "text/plain": [
       "{1: 1, 2: 2, 3: 3, 4: 4, 5: 5, 6: 6, 7: 7, 8: 8, 9: 9, 10: 10}"
      ]
     },
     "execution_count": 24,
     "metadata": {},
     "output_type": "execute_result"
    }
   ],
   "source": [
    "nums_dict = {}  # Creating an empty dictionary object\n",
    "\n",
    "for i in range(1, 11):\n",
    "    # Assining i as the key as well as the value of our dictionary\n",
    "    nums_dict[i] = i\n",
    "\n",
    "nums_dict\n"
   ]
  },
  {
   "cell_type": "markdown",
   "metadata": {},
   "source": [
    "**Scenario 7**\n",
    "\n",
    "_Plain Dictionary Example 1_\n",
    "\n",
    "Now we'll take the sqaures of all the elements in our dictionary `nums`. This scenario is the demonstration of the plain dictionary example where we are not putting any conditions on what things need to be done if some condition is met. In fact, this is the naive example where we'll perform the same iteration on every key value pair in our dictionary without checking anything. Following code snippet demonstrates it aptly:\n"
   ]
  },
  {
   "cell_type": "code",
   "execution_count": 25,
   "metadata": {},
   "outputs": [
    {
     "data": {
      "text/plain": [
       "{1: 1, 2: 4, 3: 9, 4: 16, 5: 25, 6: 36, 7: 49, 8: 64, 9: 81, 10: 100}"
      ]
     },
     "execution_count": 25,
     "metadata": {},
     "output_type": "execute_result"
    }
   ],
   "source": [
    "# Creating an empty dictionary object so that we don't overwrite the original dictionary.\n",
    "nums_squared_all_dict = {}\n",
    "\n",
    "for num in nums_dict:\n",
    "    nums_squared_all_dict[num] = nums_dict[num]**2\n",
    "\n",
    "nums_squared_all_dict\n"
   ]
  },
  {
   "cell_type": "markdown",
   "metadata": {},
   "source": [
    "**Scenario 8**\n",
    "\n",
    "_Plain Dictionary Example 2_\n",
    "\n",
    "Now we'll check for some condition before perfoming our operations. For brevity, lets stick to the example where we'll only square numbers that are even and drop the rest.\n"
   ]
  },
  {
   "cell_type": "code",
   "execution_count": 26,
   "metadata": {},
   "outputs": [
    {
     "data": {
      "text/plain": [
       "{2: 4, 4: 16, 6: 36, 8: 64, 10: 100}"
      ]
     },
     "execution_count": 26,
     "metadata": {},
     "output_type": "execute_result"
    }
   ],
   "source": [
    "nums_squared_even_only_dict = {}\n",
    "\n",
    "for num in nums_dict:\n",
    "    if num % 2 == 0:\n",
    "        nums_squared_even_only_dict[num] = nums_dict[num]**2\n",
    "\n",
    "nums_squared_even_only_dict\n"
   ]
  },
  {
   "cell_type": "markdown",
   "metadata": {},
   "source": [
    "**Scenario 9**\n",
    "\n",
    "_Plain Dictionary Example 3_\n",
    "\n",
    "Now we'll check for some condition before perfoming our operations and if that condition isn't met, we'll do something else instead of ignoring it. For brevity, lets stick to the example where we'll only square numbers that are even and keep the numbers as is, if odd.\n"
   ]
  },
  {
   "cell_type": "code",
   "execution_count": 27,
   "metadata": {},
   "outputs": [
    {
     "data": {
      "text/plain": [
       "{1: 1, 2: 4, 3: 3, 4: 16, 5: 5, 6: 36, 7: 7, 8: 64, 9: 9, 10: 100}"
      ]
     },
     "execution_count": 27,
     "metadata": {},
     "output_type": "execute_result"
    }
   ],
   "source": [
    "nums_all_even_squared_dict = {}\n",
    "\n",
    "for num in nums_dict:\n",
    "    if (num % 2 == 0):\n",
    "        nums_all_even_squared_dict[num] = nums_dict[num]**2\n",
    "    else:\n",
    "        nums_all_even_squared_dict[num] = nums_dict[num]\n",
    "\n",
    "nums_all_even_squared_dict\n"
   ]
  },
  {
   "cell_type": "markdown",
   "metadata": {},
   "source": [
    "**Scenario 10**\n",
    "\n",
    "_Dictionary Comprehension Example 1_\n",
    "\n",
    "Now we'll take the sqaures of all the elements in our Dictionary `nums_dict`. Here we'll try to attain the same output as we did in the 7th scenario but with a very compact code. This will be the demonstration of Dictionary comprehension and will demonstrate how it helps us reduce the lines in our code by making it more compact and pythonic.\n"
   ]
  },
  {
   "cell_type": "code",
   "execution_count": 28,
   "metadata": {},
   "outputs": [
    {
     "data": {
      "text/plain": [
       "{1: 1, 2: 4, 3: 9, 4: 16, 5: 25, 6: 36, 7: 49, 8: 64, 9: 81, 10: 100}"
      ]
     },
     "execution_count": 28,
     "metadata": {},
     "output_type": "execute_result"
    }
   ],
   "source": [
    "nums_squared_all_dict = {i: nums_squared_all_dict[i] for i in range(1, 11)}\n",
    "\n",
    "nums_squared_all_dict\n"
   ]
  },
  {
   "cell_type": "markdown",
   "metadata": {},
   "source": [
    "**Scenario 11**\n",
    "\n",
    "_Dictionary Comprehension Example 2_\n",
    "\n",
    "Now we'll check for some condition before perfoming our operations. For brevity, lets stick to the example where we'll only square numbers that are even and drop the rest. However, the twist here is that we'll be making use of dictionary comprehension and will make our code more pythonic.\n"
   ]
  },
  {
   "cell_type": "code",
   "execution_count": 29,
   "metadata": {},
   "outputs": [
    {
     "data": {
      "text/plain": [
       "{2: 4, 4: 16, 6: 36, 8: 64, 10: 100}"
      ]
     },
     "execution_count": 29,
     "metadata": {},
     "output_type": "execute_result"
    }
   ],
   "source": [
    "nums_squared_even_only_dict = {\n",
    "    num: nums_dict[num]**2 for num in nums_dict if nums_dict[num] % 2 == 0}\n",
    "\n",
    "nums_squared_even_only_dict\n"
   ]
  },
  {
   "cell_type": "markdown",
   "metadata": {},
   "source": [
    "**Scenario 12**\n",
    "\n",
    "_Dictionary Comprehension Example 12_\n",
    "\n",
    "Now we'll check for some condition before perfoming our operations and if that condition isn't met, we'll do something else instead of ignoring it. For brevity, lets stick to the example where we'll only square numbers that are even and keep the numbers as is, if odd. However, the twist here is that we'll be making use of dictionary comprehension and will make our code more pythonic.\n"
   ]
  },
  {
   "cell_type": "code",
   "execution_count": 30,
   "metadata": {},
   "outputs": [
    {
     "data": {
      "text/plain": [
       "{1: 1, 2: 4, 3: 3, 4: 16, 5: 5, 6: 36, 7: 7, 8: 64, 9: 9, 10: 100}"
      ]
     },
     "execution_count": 30,
     "metadata": {},
     "output_type": "execute_result"
    }
   ],
   "source": [
    "nums_all_even_squared_dict = {\n",
    "    num: nums_dict[num]**2 if (nums_dict[num] % 2 == 0) else nums_dict[num] for num in nums_dict}\n",
    "\n",
    "nums_all_even_squared_dict\n"
   ]
  },
  {
   "cell_type": "markdown",
   "metadata": {},
   "source": [
    "<br/>\n",
    "\n",
    "<span style=\"color:grey; font-family:Lato; font-size:1.4em;\">\n",
    "\n",
    "## Question 2\n",
    "\n",
    "**A student comes to you and says that they used Python to simulate 10 coin tosses and got observed 7 heads and 3 tails. They tell you that something is wrong with Python. Are they correct? Explain in detail.**\n"
   ]
  },
  {
   "cell_type": "markdown",
   "metadata": {},
   "source": [
    "- They are indeed incorrect, because there is nothing wrong with python, in this case where the experiment was simulated only for 10 iterations.\n",
    "- Actually, the problem is with the number of simulations, which is 10 in our case, being small.\n",
    "- That the number is greater than 10,000 we would get somewhat equal number of heads and equal number of tails.\n",
    "- Not to mention that equal number should be interpreted as almost equal as there will be some slight deviation in the actual number of heads and tails.\n",
    "- Moreover, the more we increase our number of simulations, the more closer we get to the theoretical values consequently seeing less abnormal deviations from our true values.\n",
    "- In conclusion, as the number of simulations increase, we see the deviation in our values converge to the theoretical values, which we expect and use while solving problems.\n"
   ]
  },
  {
   "cell_type": "markdown",
   "metadata": {},
   "source": [
    "<br/>\n",
    "\n",
    "<span style=\"color:grey; font-family:Lato; font-size:1.2em;\">\n",
    "\n",
    "## Question 3\n",
    "\n",
    "**Explain the purpose of `continue` and `break` in looping.**\n"
   ]
  },
  {
   "cell_type": "markdown",
   "metadata": {},
   "source": [
    "- Both of them help us gain more control while we are looping and lets us fine tune our needs accordingly where the more formal term to acknowledge both is _control statement_.\n",
    "- `continue` will help us skip the part that comes under it, without stopping the execution of the for loop in the middle. For example, if I don't want a specific part in my code to be exectued, I'll make sure I've written `continue` above it or the code is below `continue` so that if certain condition meets then we'll `continue` and not execute the code below it, without hampering the rest of our iterations that are about to take place.\n",
    "- ```python\n",
    "    with open(filename, 'r') as file:\n",
    "    for line in file:\n",
    "        if not line.strip(): # used for skipping empty lines!\n",
    "            continue\n",
    "        # do something with line\n",
    "  ```\n",
    "- This is our good old example where we check if the line is empty and if that condition is met we simply `continue` in our loop without executing the code below it and this indeed has no effect on the next iteration and the for loop will run smoothly.\n",
    "- `break` is somewhat intersting mainly, because when executed, the rest of the part that the upcoming iterations were supposed to perform would come as it exits the control from the for loop and we are completely out of the iteration process.\n",
    "- When something bad happens in our code and we just don't wish to continue the iteration ahead by skipping this bad part using `continue`, we make use of `break` and just get out the loop and never get into the upcoming iterations.\n",
    "- Following code snippets would demonstrate the use of continue and break.\n"
   ]
  },
  {
   "cell_type": "code",
   "execution_count": 31,
   "metadata": {},
   "outputs": [
    {
     "name": "stdout",
     "output_type": "stream",
     "text": [
      "You have 100 marks, not bad!\n",
      "You have 99 marks, not bad!\n",
      "You have 98 marks, not bad!\n",
      "You have 97 marks, not bad!\n",
      "You have 96 marks, not bad!\n",
      "You have 95 marks, not bad!\n",
      "You have 94 marks, not bad!\n",
      "You have 93 marks, not bad!\n",
      "You have 92 marks, not bad!\n",
      "You have 91 marks, not bad!\n",
      "You have 90 marks, not bad!\n",
      "You have 89 marks, not bad!\n",
      "You have 88 marks, not bad!\n",
      "You have 87 marks, not bad!\n",
      "You have 86 marks, not bad!\n",
      "You have 85 marks, not bad!\n",
      "You have 84 marks, not bad!\n",
      "You have 83 marks, not bad!\n",
      "You have 82 marks, not bad!\n",
      "You have 81 marks, not bad!\n",
      "You have 80 marks, not bad!\n",
      "You have 79 marks, not bad!\n",
      "You have 78 marks, not bad!\n",
      "You have 77 marks, not bad!\n",
      "You have 76 marks, not bad!\n",
      "You have 75 marks, not bad!\n",
      "You have 74 marks, not bad!\n",
      "You have 73 marks, not bad!\n",
      "You have 72 marks, not bad!\n",
      "You have 71 marks, not bad!\n",
      "You have 70 marks, not bad!\n",
      "You have 69 marks, not bad!\n",
      "You have 68 marks, not bad!\n",
      "You have 67 marks, not bad!\n",
      "You have 66 marks, not bad!\n",
      "You have 65 marks, not bad!\n",
      "You have 64 marks, not bad!\n",
      "You have 63 marks, not bad!\n",
      "You have 62 marks, not bad!\n",
      "You have 61 marks, not bad!\n",
      "You have 60 marks, not bad!\n",
      "You have 59 marks, not bad!\n",
      "You have 58 marks, not bad!\n",
      "You have 57 marks, not bad!\n",
      "You have 56 marks, not bad!\n",
      "You have 55 marks, not bad!\n",
      "You have 54 marks, not bad!\n",
      "You have 53 marks, not bad!\n",
      "You have 52 marks, not bad!\n",
      "You have 51 marks, not bad!\n",
      "You have 50 marks, not bad!\n",
      "You have 49 marks, not bad!\n",
      "You have 48 marks, not bad!\n",
      "You have 47 marks, not bad!\n",
      "You have 46 marks, not bad!\n",
      "You have 45 marks, not bad!\n",
      "You have 44 marks, not bad!\n",
      "You have 43 marks, not bad!\n",
      "You have 42 marks, not bad!\n",
      "You have 41 marks, not bad!\n",
      "You have 40 marks, not bad!\n",
      "You have 39 marks, not bad!\n",
      "You have 38 marks, not bad!\n",
      "You have 37 marks, not bad!\n",
      "You have 36 marks, not bad!\n",
      "You have 35 marks, not bad!\n",
      "You have 34 marks, not bad!\n",
      "You have 33 marks, not bad!\n",
      "See you again in the next semester\n"
     ]
    }
   ],
   "source": [
    "marks = 100                    # Second Example\n",
    "while marks > 0:\n",
    "    print(f\"You have {marks} marks, not bad!\")\n",
    "    marks = marks - 1\n",
    "    if marks == 32:\n",
    "        break\n",
    "\n",
    "print(\"See you again in the next semester\")\n"
   ]
  },
  {
   "cell_type": "code",
   "execution_count": 32,
   "metadata": {},
   "outputs": [
    {
     "name": "stdout",
     "output_type": "stream",
     "text": [
      "To plant a garden is to believe in tomorrow\n"
     ]
    }
   ],
   "source": [
    "for i in range(410, 425):\n",
    "    if i != 420:\n",
    "        continue\n",
    "    else:\n",
    "        print(\"To plant a garden is to believe in tomorrow\")\n"
   ]
  },
  {
   "cell_type": "markdown",
   "metadata": {},
   "source": [
    "<br/>\n",
    "\n",
    "<span style=\"color:grey; font-family:Lato; font-size:1.4em;\">\n",
    "\n",
    "## Question 4\n",
    "\n",
    "**Assume there is a csv file whose first line is the column headers and the rest of the rows are values. How can you use zip to create a list in which each element is a dictionary whose keys are the column headers and values are the values from the rows? Hint: I am asking you to basically explain the following code that we covered in lecture.**\n",
    "\n",
    "```python\n",
    "    filename = 'people.tsv'\n",
    "\n",
    "    students = []\n",
    "    header = None\n",
    "    with open(filename) as file:\n",
    "        for line in file:\n",
    "            if not line.strip():\n",
    "                continue\n",
    "\n",
    "            if not header:\n",
    "                header = line.strip().split('\\t')\n",
    "                continue\n",
    "    #         print(header)\n",
    "    #         print(line.strip().split('\\t'))\n",
    "    #         print(dict(list(zip(header, line.strip().split('\\t')))))\n",
    "    #         tmp = dict(zip(header,line.strip().split('\\t')))\n",
    "            students.append(dict(zip(header,line.strip().split('\\t'))))\n",
    "    for student in students:\n",
    "        print(student)\n",
    "```\n"
   ]
  },
  {
   "cell_type": "markdown",
   "metadata": {},
   "source": [
    "- filename holds the name of the file that we will open eventually by passing it as an input argument to the open function.\n",
    "- Before we even get in the for loop we make sure that we've created an empty list called students and have set the header to none in order to set it correctly as soon as we read the first line in the for loop.\n",
    "- This file is `.tsv` and not `.csv` which means that it isn't seperated by commas but is seperated by tab spaces. Thus, we'll make sure that we spit our lines on tab space.\n",
    "- Before we get in our code it is important that we understand what our end goal is. In other words, lets have a rough idea about how values will be stored in our `students` list.\n",
    "- So, it is going to be a list with dictionaries as its values. In fact, every line in our `'people.tsv'` file will be stored as a dictionary value in our list. In conclusion, we expect to see a list of dictionaries where the index of the list corresponds the line number in our `'people.tsv'` file.\n",
    "- Validations are the safety checks that a coder must perform before computing something with the data in order to prevent wastage of computation power and maintain data integrity. More ofen than not heavy validation code can be seen in the business logic of the application and usually sits in the backend. Thus, we also have done the same thing in our function where we check for some edge cases in order to prevent hazard in the functionality of our code.\n",
    "- Following is our validation code that checks for a condition before we move ahead in every iteration in order to prevent errors\n",
    "\n",
    "```python\n",
    "    if not line.strip():\n",
    "                continue\n",
    "```\n",
    "\n",
    "- Once we are sure that the line ins't empty, next thing we do is set the `header` if the value is none. Actually, `Header` will be holding the keys of our dictionary that we'll be creating for every line in our `'people.tsv'` file. Furthermore, this is based on a very strong assumption that the first line in our file would be the having the attribute/column/feature names. Although the common consensus about the convention makes it a very safe assumption, but still it's better to explicitly state it at the onset itself to prevent any sort of misinterpretation.\n",
    "- In addition, `continue` plays a pivotal role especially after we've assigned the header, because we don't want our header to be treated as the value, which the code below does. And more importantly we don't want the first value of our `students` list to have a dictionary that has same keys and same values. Thus, we make sure that we move on to the next iteration, since we've already accomplished the task for this one.\n",
    "\n",
    "```python\n",
    "   students.append(dict(zip(header,line.strip().split('\\t'))))\n",
    "```\n",
    "\n",
    "- The aforementioned code block is nothing if not a well orchestrated symphony where there's lot of things happening in harmony. Lets start from inside. Here, `line.strip().split('\\t')` will split our line everytime it encounters a tab space.\n",
    "- Since we want a dictionary with key value pair sitting in our `students` list, we have to do something that assigns it in that fashion. Thus, to our rescue, we call `zip` where we pass in `header` and the value that was freshly cut by `.split `on tab spaces.\n",
    "- `dict` makes sure that we bind the output values thrown by our `zip` as key value pairs where `header` holds the keys and the output thrown by `line.strip().split('\\t')` holds the value for the respective header.\n",
    "- Finally, we've got everything in the right place and have a `students` list that has all the key value paired dictionaries as its value and the information from the `people.tsv` file has been sucessfully transferred into a structued data type which enables us to peform a lot of operation using the readymade function that wouldn't have worked otherwise.\n"
   ]
  },
  {
   "cell_type": "markdown",
   "metadata": {},
   "source": []
  }
 ],
 "metadata": {
  "kernelspec": {
   "display_name": "Python 3.9.6 64-bit",
   "language": "python",
   "name": "python3"
  },
  "language_info": {
   "codemirror_mode": {
    "name": "ipython",
    "version": 3
   },
   "file_extension": ".py",
   "mimetype": "text/x-python",
   "name": "python",
   "nbconvert_exporter": "python",
   "pygments_lexer": "ipython3",
   "version": "3.9.6"
  },
  "orig_nbformat": 4,
  "vscode": {
   "interpreter": {
    "hash": "31f2aee4e71d21fbe5cf8b01ff0e069b9275f58929596ceb00d14d90e3e16cd6"
   }
  }
 },
 "nbformat": 4,
 "nbformat_minor": 2
}
