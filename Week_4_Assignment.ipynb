{
 "cells": [
  {
   "cell_type": "markdown",
   "metadata": {},
   "source": [
    "Week 4 Lecture Review\n",
    "=====================\n",
    "\n",
    "Question 1\n",
    "----------\n",
    "\n",
    "We covered list and dictionary comprehension. There are three variations of list/dictionary comprehension: no conditional, if conditional, and if/else conditional. Give simple examples where you do not use list/dictionary comprehension and then repeat the same examples with list/dictionary comprehension. There will be 12 examples in total -- 3 plain list example, 3 list comprehension examples, 3 plain dictionary examples, and 3 dictionary comprehensions examples."
   ]
  },
  {
   "cell_type": "markdown",
   "metadata": {},
   "source": [
    "For this question we'll start by creating a list called `nums`, which holds numbers from 1 to 10. First, we'll simply create a list without having any condition on it with the help of our tradational barebones for loop way. Following code snippet demonstrates that example where we don't have any condition and we are creating a list WITHOUT using list comprehension. "
   ]
  },
  {
   "cell_type": "code",
   "execution_count": 231,
   "metadata": {},
   "outputs": [
    {
     "name": "stdout",
     "output_type": "stream",
     "text": [
      "This is our first output: [1, 2, 3, 4, 5, 6, 7, 8, 9, 10]\n",
      "This is our second output: [1, 2, 3, 4, 5, 6, 7, 8, 9, 10], which indeed is the same!\n"
     ]
    }
   ],
   "source": [
    "# This is a very naive way of doing things in python. Here we will be making use of the for loop in order to create a list of numbers (nums) from 1 to 10.\n",
    "nums = []\n",
    "for i in range(1, 11):\n",
    "    nums.append(i)\n",
    "print(f\"This is our first output: {nums}\")\n",
    "\n",
    "# Actually, we can get the same list (nums) in just one line by forcing our range operator to get into a list as follows:\n",
    "nums = list(range(1, 11))\n",
    "print(f\"This is our second output: {nums}, which indeed is the same!\")\n"
   ]
  },
  {
   "cell_type": "markdown",
   "metadata": {},
   "source": [
    "**Scenario 1**  \n",
    "\n",
    "*Plain List Example 1*\n",
    "\n",
    "Now we'll take the sqaures of all the elements in our list `nums`. This scenario is the demonstration of the plain list example where we are not putting any conditions on what things need to be done if some condition is met. In fact, this is the naive example where we'll perform the same iteration on every element of our list without checking anything. Following code snippet demonstrates it aptly: "
   ]
  },
  {
   "cell_type": "code",
   "execution_count": 232,
   "metadata": {},
   "outputs": [
    {
     "data": {
      "text/plain": [
       "[1, 4, 9, 16, 25, 36, 49, 64, 81, 100]"
      ]
     },
     "execution_count": 232,
     "metadata": {},
     "output_type": "execute_result"
    }
   ],
   "source": [
    "# We'll create a new object to hold our results instead of overwriting our original nums list.\n",
    "nums_squared_all = []\n",
    "\n",
    "for num in nums:\n",
    "    nums_squared_all.append(num**2)\n",
    "\n",
    "nums_squared_all\n"
   ]
  },
  {
   "cell_type": "markdown",
   "metadata": {},
   "source": [
    "**Scenario 2**\n",
    "\n",
    "*Plain List Example 2*\n",
    "\n",
    "Now we'll check for some condition before perfoming our operations. For brevity, lets stick to the example where we'll only square numbers that are even and drop the rest. \n"
   ]
  },
  {
   "cell_type": "code",
   "execution_count": 233,
   "metadata": {},
   "outputs": [
    {
     "data": {
      "text/plain": [
       "[4, 16, 36, 64, 100]"
      ]
     },
     "execution_count": 233,
     "metadata": {},
     "output_type": "execute_result"
    }
   ],
   "source": [
    "# We'll create a new object to hold our results instead of overwriting our original nums list.\n",
    "nums_squared_even_only = []\n",
    "\n",
    "for num in nums:\n",
    "    if (num % 2 == 0):\n",
    "        nums_squared_even_only.append(num**2)\n",
    "\n",
    "nums_squared_even_only\n"
   ]
  },
  {
   "cell_type": "markdown",
   "metadata": {},
   "source": [
    "**Scenario 3**\n",
    "\n",
    "*Plain List Example 3*\n",
    "\n",
    "Now we'll check for some condition before perfoming our operations and if that condition isn't met, we'll do something else instead of ignoring it. For brevity, lets stick to the example where we'll only square numbers that are even and keep the numbers as is, if odd. "
   ]
  },
  {
   "cell_type": "code",
   "execution_count": 234,
   "metadata": {},
   "outputs": [
    {
     "data": {
      "text/plain": [
       "[1, 4, 3, 16, 5, 36, 7, 64, 9, 100]"
      ]
     },
     "execution_count": 234,
     "metadata": {},
     "output_type": "execute_result"
    }
   ],
   "source": [
    "# We'll create a new object to hold our results instead of overwriting our original nums list.\n",
    "nums_all_even_squared = []\n",
    "\n",
    "for num in nums:\n",
    "    if (num % 2 == 0):\n",
    "        nums_all_even_squared.append(num**2)\n",
    "    else:\n",
    "        nums_all_even_squared.append(num)\n",
    "\n",
    "nums_all_even_squared\n"
   ]
  },
  {
   "cell_type": "markdown",
   "metadata": {},
   "source": [
    "**Scenario 4**\n",
    "\n",
    "*List Comprehension Example 1*\n",
    "\n",
    "Now we'll take the sqaures of all the elements in our list `nums`. Here we'll try to attain the same output as we did in the 1st scenario but with a very compact code. This will be the demonstration of list comprehension and will demonstrate how it helps us reduce the lines in our code by making it more compact and pythonic. "
   ]
  },
  {
   "cell_type": "code",
   "execution_count": 235,
   "metadata": {},
   "outputs": [
    {
     "data": {
      "text/plain": [
       "[1, 4, 9, 16, 25, 36, 49, 64, 81, 100]"
      ]
     },
     "execution_count": 235,
     "metadata": {},
     "output_type": "execute_result"
    }
   ],
   "source": [
    "# This is how we make our code more readable and shrink lines by making use of list comprehension.\n",
    "nums_squared_all = [num**2 for num in nums]\n",
    "\n",
    "nums_squared_all\n"
   ]
  },
  {
   "cell_type": "markdown",
   "metadata": {},
   "source": [
    "**Scenario 5**\n",
    "\n",
    "*List Comprehension Example 2*\n",
    "\n",
    "Now we'll check for some condition before perfoming our operations. For brevity, lets stick to the example where we'll only square numbers that are even and drop the rest. However, the twist here is that we'll be making use of list comprehension and will make our code more pythonic. \n"
   ]
  },
  {
   "cell_type": "code",
   "execution_count": 236,
   "metadata": {},
   "outputs": [
    {
     "data": {
      "text/plain": [
       "[4, 16, 36, 64, 100]"
      ]
     },
     "execution_count": 236,
     "metadata": {},
     "output_type": "execute_result"
    }
   ],
   "source": [
    "# Pay close attention to where I've written the if statement in this case, because there's something coming up in the next example\n",
    "nums_squared_even_only = [num**2 for num in nums if num % 2 == 0]\n",
    "\n",
    "nums_squared_even_only\n"
   ]
  },
  {
   "cell_type": "markdown",
   "metadata": {},
   "source": [
    "**Scenario 6**\n",
    "\n",
    "*List Comprehension Example 3*\n",
    "\n",
    "Now we'll check for some condition before perfoming our operations and if that condition isn't met, we'll do something else instead of ignoring it. For brevity, lets stick to the example where we'll only square numbers that are even and keep the numbers as is, if odd. However, the twist here is that we'll be making use of list comprehension and will make our code more pythonic. "
   ]
  },
  {
   "cell_type": "code",
   "execution_count": 237,
   "metadata": {},
   "outputs": [
    {
     "data": {
      "text/plain": [
       "[1, 4, 3, 16, 5, 36, 7, 64, 9, 100]"
      ]
     },
     "execution_count": 237,
     "metadata": {},
     "output_type": "execute_result"
    }
   ],
   "source": [
    "nums_all_even_squared = [num**2 if num % 2 == 0 else num for num in nums]\n",
    "\n",
    "nums_all_even_squared\n"
   ]
  },
  {
   "cell_type": "markdown",
   "metadata": {},
   "source": [
    "Now lets start with the plain dictionary examples where we'll reiterate the same things that we did for our list example but with the only difference of our current data type being a dictionary and not a list. Now we'll create a dictionary\n",
    "\n"
   ]
  },
  {
   "cell_type": "code",
   "execution_count": 238,
   "metadata": {},
   "outputs": [
    {
     "data": {
      "text/plain": [
       "{1: 1, 2: 2, 3: 3, 4: 4, 5: 5, 6: 6, 7: 7, 8: 8, 9: 9, 10: 10}"
      ]
     },
     "execution_count": 238,
     "metadata": {},
     "output_type": "execute_result"
    }
   ],
   "source": [
    "nums_dict = {}  # Creating an empty dictionary object\n",
    "\n",
    "for i in range(1, 11):\n",
    "    # Assining i as the key as well as the value of our dictionary\n",
    "    nums_dict[i] = i\n",
    "\n",
    "nums_dict\n"
   ]
  },
  {
   "cell_type": "markdown",
   "metadata": {},
   "source": [
    "**Scenario 7**\n",
    "\n",
    "*Plain Dictionary Example 1*\n",
    "\n",
    "Now we'll take the sqaures of all the elements in our dictionary `nums`. This scenario is the demonstration of the plain dictionary example where we are not putting any conditions on what things need to be done if some condition is met. In fact, this is the naive example where we'll perform the same iteration on every key value pair in our dictionary without checking anything. Following code snippet demonstrates it aptly: "
   ]
  },
  {
   "cell_type": "code",
   "execution_count": 239,
   "metadata": {},
   "outputs": [
    {
     "data": {
      "text/plain": [
       "{1: 1, 2: 4, 3: 9, 4: 16, 5: 25, 6: 36, 7: 49, 8: 64, 9: 81, 10: 100}"
      ]
     },
     "execution_count": 239,
     "metadata": {},
     "output_type": "execute_result"
    }
   ],
   "source": [
    "# Creating an empty dictionary object so that we don't overwrite the original dictionary.\n",
    "nums_squared_all_dict = {}\n",
    "\n",
    "for num in nums_dict:\n",
    "    nums_squared_all_dict[num] = nums_dict[num]**2\n",
    "\n",
    "nums_squared_all_dict\n"
   ]
  },
  {
   "cell_type": "markdown",
   "metadata": {},
   "source": [
    "**Scenario 8**\n",
    "\n",
    "*Plain Dictionary Example 2*\n",
    "\n",
    "Now we'll check for some condition before perfoming our operations. For brevity, lets stick to the example where we'll only square numbers that are even and drop the rest. \n"
   ]
  },
  {
   "cell_type": "code",
   "execution_count": 240,
   "metadata": {},
   "outputs": [
    {
     "data": {
      "text/plain": [
       "{2: 4, 4: 16, 6: 36, 8: 64, 10: 100}"
      ]
     },
     "execution_count": 240,
     "metadata": {},
     "output_type": "execute_result"
    }
   ],
   "source": [
    "nums_squared_even_only_dict = {}\n",
    "\n",
    "for num in nums_dict:\n",
    "    if num % 2 == 0:\n",
    "        nums_squared_even_only_dict[num] = nums_dict[num]**2\n",
    "\n",
    "nums_squared_even_only_dict\n"
   ]
  },
  {
   "cell_type": "markdown",
   "metadata": {},
   "source": [
    "**Scenario 9**\n",
    "\n",
    "*Plain Dictionary Example 3*\n",
    "\n",
    "Now we'll check for some condition before perfoming our operations and if that condition isn't met, we'll do something else instead of ignoring it. For brevity, lets stick to the example where we'll only square numbers that are even and keep the numbers as is, if odd. \n"
   ]
  },
  {
   "cell_type": "code",
   "execution_count": 241,
   "metadata": {},
   "outputs": [
    {
     "data": {
      "text/plain": [
       "{1: 1, 2: 4, 3: 3, 4: 16, 5: 5, 6: 36, 7: 7, 8: 64, 9: 9, 10: 100}"
      ]
     },
     "execution_count": 241,
     "metadata": {},
     "output_type": "execute_result"
    }
   ],
   "source": [
    "nums_all_even_squared_dict = {}\n",
    "\n",
    "for num in nums_dict:\n",
    "    if (num % 2 == 0):\n",
    "        nums_all_even_squared_dict[num] = nums_dict[num]**2\n",
    "    else:\n",
    "        nums_all_even_squared_dict[num] = nums_dict[num]\n",
    "\n",
    "nums_all_even_squared_dict\n"
   ]
  },
  {
   "cell_type": "markdown",
   "metadata": {},
   "source": [
    "**Scenario 10**\n",
    "\n",
    "*Dictionary Comprehension Example 1*\n",
    "\n",
    "Now we'll take the sqaures of all the elements in our Dictionary `nums_dict`. Here we'll try to attain the same output as we did in the 7th scenario but with a very compact code. This will be the demonstration of Dictionary comprehension and will demonstrate how it helps us reduce the lines in our code by making it more compact and pythonic. "
   ]
  },
  {
   "cell_type": "code",
   "execution_count": 242,
   "metadata": {},
   "outputs": [
    {
     "data": {
      "text/plain": [
       "{1: 1, 2: 4, 3: 9, 4: 16, 5: 25, 6: 36, 7: 49, 8: 64, 9: 81, 10: 100}"
      ]
     },
     "execution_count": 242,
     "metadata": {},
     "output_type": "execute_result"
    }
   ],
   "source": [
    "nums_squared_all_dict = {i: nums_squared_all_dict[i] for i in range(1, 11)}\n",
    "\n",
    "nums_squared_all_dict\n"
   ]
  },
  {
   "cell_type": "markdown",
   "metadata": {},
   "source": [
    "**Scenario 11**\n",
    "\n",
    "*Dictionary Comprehension Example 2*\n",
    "\n",
    "Now we'll check for some condition before perfoming our operations. For brevity, lets stick to the example where we'll only square numbers that are even and drop the rest. However, the twist here is that we'll be making use of dictionary comprehension and will make our code more pythonic. \n"
   ]
  },
  {
   "cell_type": "code",
   "execution_count": 243,
   "metadata": {},
   "outputs": [
    {
     "data": {
      "text/plain": [
       "{2: 4, 4: 16, 6: 36, 8: 64, 10: 100}"
      ]
     },
     "execution_count": 243,
     "metadata": {},
     "output_type": "execute_result"
    }
   ],
   "source": [
    "nums_squared_even_only_dict = {\n",
    "    num: nums_dict[num]**2 for num in nums_dict if nums_dict[num] % 2 == 0}\n",
    "\n",
    "nums_squared_even_only_dict\n"
   ]
  },
  {
   "cell_type": "markdown",
   "metadata": {},
   "source": [
    "**Scenario 12**\n",
    "\n",
    "*Dictionary Comprehension Example 12*\n",
    "\n",
    "Now we'll check for some condition before perfoming our operations and if that condition isn't met, we'll do something else instead of ignoring it. For brevity, lets stick to the example where we'll only square numbers that are even and keep the numbers as is, if odd. However, the twist here is that we'll be making use of dictionary comprehension and will make our code more pythonic. "
   ]
  },
  {
   "cell_type": "code",
   "execution_count": 244,
   "metadata": {},
   "outputs": [
    {
     "data": {
      "text/plain": [
       "{1: 1, 2: 4, 3: 3, 4: 16, 5: 5, 6: 36, 7: 7, 8: 64, 9: 9, 10: 100}"
      ]
     },
     "execution_count": 244,
     "metadata": {},
     "output_type": "execute_result"
    }
   ],
   "source": [
    "nums_all_even_squared_dict = {\n",
    "    num: nums_dict[num]**2 if (nums_dict[num] % 2 == 0) else nums_dict[num] for num in nums_dict}\n",
    "\n",
    "nums_all_even_squared_dict\n"
   ]
  },
  {
   "cell_type": "markdown",
   "metadata": {},
   "source": [
    "Question 2\n",
    "----------\n",
    "\n",
    "A student comes to you and says that they used Python to simulate 10 coin tosses and got observed 7 heads and 3 tails. They tell you that something is wrong with Python. Are they correct? Explain in detail.\n",
    "\n",
    "Question 3\n",
    "----------\n",
    "\n",
    "Explain the purpose of `continue` and `break` in looping.\n",
    "\n",
    "Question 4\n",
    "----------\n",
    "\n",
    "Assume there is a csv file whose first line is the column headers and the rest of the rows are values. How can you use zip to create a list in which each element is a dictionary whose keys are the column headers and values are the values from the rows? Hint: I am asking you to basically explain the following code that we covered in lecture.\n",
    "\n",
    "    filename = 'people.tsv'\n",
    "    \n",
    "    students = []\n",
    "    header = None\n",
    "    with open(filename) as file:\n",
    "        for line in file:\n",
    "            if not line.strip():\n",
    "                continue\n",
    "                \n",
    "            if not header:\n",
    "                header = line.strip().split('\\t')\n",
    "                continue\n",
    "    #         print(header)\n",
    "    #         print(line.strip().split('\\t'))\n",
    "    #         print(dict(list(zip(header, line.strip().split('\\t')))))\n",
    "    #         tmp = dict(zip(header,line.strip().split('\\t')))\n",
    "            students.append(dict(zip(header,line.strip().split('\\t'))))\n",
    "    for student in students:\n",
    "        print(student)"
   ]
  },
  {
   "cell_type": "markdown",
   "metadata": {},
   "source": []
  }
 ],
 "metadata": {
  "kernelspec": {
   "display_name": "Python 3.9.6 64-bit",
   "language": "python",
   "name": "python3"
  },
  "language_info": {
   "codemirror_mode": {
    "name": "ipython",
    "version": 3
   },
   "file_extension": ".py",
   "mimetype": "text/x-python",
   "name": "python",
   "nbconvert_exporter": "python",
   "pygments_lexer": "ipython3",
   "version": "3.9.6"
  },
  "orig_nbformat": 4,
  "vscode": {
   "interpreter": {
    "hash": "31f2aee4e71d21fbe5cf8b01ff0e069b9275f58929596ceb00d14d90e3e16cd6"
   }
  }
 },
 "nbformat": 4,
 "nbformat_minor": 2
}
