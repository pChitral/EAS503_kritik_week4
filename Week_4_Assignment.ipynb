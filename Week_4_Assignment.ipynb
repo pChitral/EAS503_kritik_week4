{
 "cells": [
  {
   "cell_type": "markdown",
   "metadata": {},
   "source": [
    "Week 4 Lecture Review\n",
    "=====================\n",
    "\n",
    "Question 1\n",
    "----------\n",
    "\n",
    "We covered list and dictionary comprehension. There are three variations of list/dictionary comprehension: no conditional, if conditional, and if/else conditional. Give simple examples where you do not use list/dictionary comprehension and then repeat the same examples with list/dictionary comprehension. There will be 12 examples in total -- 3 plain list example, 3 list comprehension examples, 3 plain dictionary examples, and 3 dictionary comprehensions examples.\n",
    "\n",
    "Question 2\n",
    "----------\n",
    "\n",
    "A student comes to you and says that they used Python to simulate 10 coin tosses and got observed 7 heads and 3 tails. They tell you that something is wrong with Python. Are they correct? Explain in detail.\n",
    "\n",
    "Question 3\n",
    "----------\n",
    "\n",
    "Explain the purpose of `continue` and `break` in looping.\n",
    "\n",
    "Question 4\n",
    "----------\n",
    "\n",
    "Assume there is a csv file whose first line is the column headers and the rest of the rows are values. How can you use zip to create a list in which each element is a dictionary whose keys are the column headers and values are the values from the rows? Hint: I am asking you to basically explain the following code that we covered in lecture.\n",
    "\n",
    "    filename = 'people.tsv'\n",
    "    \n",
    "    students = []\n",
    "    header = None\n",
    "    with open(filename) as file:\n",
    "        for line in file:\n",
    "            if not line.strip():\n",
    "                continue\n",
    "                \n",
    "            if not header:\n",
    "                header = line.strip().split('\\t')\n",
    "                continue\n",
    "    #         print(header)\n",
    "    #         print(line.strip().split('\\t'))\n",
    "    #         print(dict(list(zip(header, line.strip().split('\\t')))))\n",
    "    #         tmp = dict(zip(header,line.strip().split('\\t')))\n",
    "            students.append(dict(zip(header,line.strip().split('\\t'))))\n",
    "    for student in students:\n",
    "        print(student)"
   ]
  },
  {
   "cell_type": "markdown",
   "metadata": {},
   "source": []
  }
 ],
 "metadata": {
  "language_info": {
   "name": "python"
  },
  "orig_nbformat": 4
 },
 "nbformat": 4,
 "nbformat_minor": 2
}
